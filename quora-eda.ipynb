{
  "cells": [
    {
      "cell_type": "code",
      "execution_count": 1,
      "metadata": {
        "pycharm": {}
      },
      "outputs": [],
      "source": [
        "import pandas as pd\n",
        "import networkx"
      ]
    },
    {
      "cell_type": "code",
      "execution_count": 2,
      "metadata": {
        "pycharm": {}
      },
      "outputs": [],
      "source": [
        "data \u003d pd.read_csv(\u0027./datasets/quora-question-pairs/train.csv\u0027)"
      ]
    },
    {
      "cell_type": "code",
      "execution_count": 3,
      "metadata": {
        "pycharm": {}
      },
      "outputs": [],
      "source": [
        "graph \u003d networkx.MultiGraph()"
      ]
    },
    {
      "cell_type": "code",
      "execution_count": 4,
      "metadata": {
        "pycharm": {}
      },
      "outputs": [],
      "source": [
        "graph.add_nodes_from(data[\u0027qid1\u0027].unique())\n",
        "\n",
        "graph.add_nodes_from(data[\u0027qid2\u0027].unique())"
      ]
    },
    {
      "cell_type": "code",
      "execution_count": null,
      "metadata": {
        "pycharm": {}
      },
      "outputs": [],
      "source": [
        "graph.add_edges_from(data[data[\u0027is_duplicate\u0027] \u003d\u003d 1][[\u0027qid1\u0027, \u0027qid2\u0027]].values)"
      ]
    },
    {
      "cell_type": "code",
      "execution_count": 18,
      "metadata": {
        "pycharm": {}
      },
      "outputs": [
        {
          "data": {
            "text/plain": [
              "array([     1,      3,      5, ..., 537928, 537930, 537932])"
            ]
          },
          "execution_count": 18,
          "metadata": {},
          "output_type": "execute_result"
        }
      ],
      "source": [
        "data[\u0027qid1\u0027].unique()"
      ]
    },
    {
      "cell_type": "code",
      "execution_count": 35,
      "metadata": {
        "pycharm": {}
      },
      "outputs": [
        {
          "data": {
            "text/plain": [
              "200803"
            ]
          },
          "execution_count": 35,
          "metadata": {},
          "output_type": "execute_result"
        }
      ],
      "source": [
        "networkx.number_connected_components(graph)"
      ]
    },
    {
      "cell_type": "code",
      "execution_count": null,
      "metadata": {
        "pycharm": {}
      },
      "outputs": [],
      "source": [
        "networkx.nodes(graph)"
      ]
    },
    {
      "cell_type": "code",
      "execution_count": 38,
      "metadata": {
        "pycharm": {}
      },
      "outputs": [],
      "source": [
        "from tqdm import tqdm"
      ]
    },
    {
      "cell_type": "code",
      "execution_count": 40,
      "metadata": {
        "pycharm": {}
      },
      "outputs": [],
      "source": [
        "dic \u003d {}"
      ]
    },
    {
      "cell_type": "code",
      "execution_count": 42,
      "metadata": {
        "pycharm": {}
      },
      "outputs": [
        {
          "name": "stderr",
          "output_type": "stream",
          "text": [
            "404290it [01:13, 5517.98it/s]\n"
          ]
        }
      ],
      "source": [
        "for _, (qid1, qid2, q1, q2) in tqdm(data[[\u0027qid1\u0027, \u0027qid2\u0027, \u0027question1\u0027, \u0027question2\u0027]].iterrows()):\n",
        "    dic[qid1] \u003d q1\n",
        "    dic[qid2] \u003d q2"
      ]
    },
    {
      "cell_type": "code",
      "execution_count": 48,
      "metadata": {
        "scrolled": true,
        "pycharm": {}
      },
      "outputs": [
        {
          "name": "stdout",
          "output_type": "stream",
          "text": [
            "53 268\n",
            "[\"How will Trump\u0027s presidency affect prospective international students from Syria?\", \"What would be the effect of Trump\u0027s presidency on international Master\u0027s students who plan to work in the US after completing the degree?\", \u0027How would a Trump presidency affect schools accessibility for international students?\u0027, \u0027I am an international student in the US - do I have to leave if Trump wins?\u0027, \"What effect will Donald Trump\u0027s victory have on international students looking to study in USA?\", \u0027Will international college students be negatively affected if Trump becomes president?\u0027, \"What does Donald Trump\u0027s win mean for Indian students in USA?\", \"What does Donald Trump\u0027s victory mean for the graduate students from Islamic countries?\", \u0027What happens to the Indian students trying to pursue Masters of PHD in USA, now that Trump is the president?\u0027, \"What does a Trump presidency mean for Indian students looking to pursue Master\u0027s degrees in USA?\", \u0027I am an Indian, planning to go to US for MS (a STEM course) this January. If Trump wins, how will that affect my future in US?\u0027, \u0027How is Trump becoming the president affect the Indians applying for an MS in the US (Mech)?\u0027, \u0027Will Donald Trump’s win in the elections have an impact on Indian students applying for a higher education in the US?\u0027, \u0027How will Trump’s presidency affect international students in the US?\u0027, \u0027How might Trump affect the status of foreign students at top universities in the US?\u0027, \u0027What would a Trump presidency mean for current international master’s students on an F1 visa?\u0027, \u0027How will a Trump presidency affect the students presently in US or planning to study in US?\u0027, \u0027How will Trump or Clinton presidency affect foreign students?\u0027, \u0027What will happen to Chinese students studying abroad in America now that Trump is president?\u0027, \"How does Trump\u0027s win affects Indian students planning for graduate studies in United States?\", \u0027How will it affect international students coming to the US for undergraduation now that Trump has become the President?\u0027, \u0027What will happen to international students in the US if Donald Trump becomes president?\u0027, \u0027How would it affect Indian students studying/working in the US if Trump becomes the President?\u0027, \"How does Donald Trump\u0027s win affects Indian students preparing for graduate studies in US?\", \"What are the advantages and disadvantages of international students in the US, now that Trump\u0027s officially the President of the United States?\", \"How will Trump\u0027s presidency affect the Indian students who are planning to study in the US?\", \u0027How will Donald Trump becoming a president affect the Indian students who are trying to pursue their masters in America?\u0027, \u0027Now that Donald Trump is President, will international students stop coming to US universities?\u0027, \u0027Should I (a prospective Indian student) stop applying to universities in the USA, now that Donald Trump has become the president?\u0027, \u0027How are international students from Hong Kong going to be affected after Donald Trump becomes president?\u0027, \u0027Will foreign students studying in the USA be unwelcomed after Donald Trump is elected as president?\u0027, \u0027Considering I am an international student, should my plan to study in the US be scrapped in a Trump Presidency?\u0027, \u0027If Trump is elected, will I be held from entering the US as an international student?\u0027, \"How bad can Trump\u0027s election as president be for students aspiring to study in US?\", \u0027How would Trump presidency affect Indian students in the US?\u0027, \"How will Trump\u0027s presidency affect Indian students who are planning to do a PhD in the US?\", \u0027What will be the impact of Donald Trump’s win on Indian students, who are planning to study in the United States?\u0027, \u0027Is there any harm for the international students from South Asian countries in America after Trump becoming the President?\u0027, \u0027Will the Trump factor affect the admission of international students in the USA?\u0027, \u0027What will happen if Donald trump wins, and its effect on Indian students who are studying in US?\u0027]\n"
          ]
        }
      ],
      "source": [
        "subgraphs \u003d (graph.subgraph(c) for c in networkx.connected_components(graph))\n",
        "\n",
        "for sg in subgraphs:\n",
        "    nn \u003d networkx.number_of_nodes(sg)\n",
        "    ne \u003d networkx.number_of_edges(sg)\n",
        "    if ne !\u003d nn * (nn - 1) // 2:\n",
        "        print(nn, ne)\n",
        "        ids \u003d networkx.nodes(sg)\n",
        "        print([dic[vertex] for vertex in ids][:40])\n",
        "        break"
      ]
    },
    {
      "cell_type": "code",
      "execution_count": null,
      "metadata": {
        "pycharm": {}
      },
      "outputs": [],
      "source": [
        "graph.add_edges_from()"
      ]
    },
    {
      "cell_type": "code",
      "execution_count": 30,
      "metadata": {
        "pycharm": {}
      },
      "outputs": [
        {
          "data": {
            "text/plain": [
              "array([[     1,      2],\n",
              "       [     3,      4],\n",
              "       [     5,      6],\n",
              "       ...,\n",
              "       [537928, 537929],\n",
              "       [537930, 537931],\n",
              "       [537932, 537933]])"
            ]
          },
          "execution_count": 30,
          "metadata": {},
          "output_type": "execute_result"
        }
      ],
      "source": [
        "data[[\u0027qid1\u0027, \u0027qid2\u0027]].values"
      ]
    },
    {
      "cell_type": "code",
      "execution_count": 1,
      "metadata": {
        "pycharm": {}
      },
      "outputs": [],
      "source": [
        "import torch"
      ]
    },
    {
      "cell_type": "code",
      "execution_count": 2,
      "metadata": {
        "pycharm": {}
      },
      "outputs": [],
      "source": "def masked_softmax(input, masks, dim, epsilon\u003d1e-12):\n    masked_vec \u003d input * masks\n    max_vec \u003d torch.max(masked_vec, dim\u003ddim, keepdim\u003dTrue).values\n    exps \u003d torch.exp(masked_vec - max_vec)\n    masked_exps \u003d exps * masks\n    masked_sums \u003d masked_exps.sum(dim, keepdim\u003dTrue)\n    return masked_exps / masked_sums"
    },
    {
      "cell_type": "code",
      "execution_count": 60,
      "metadata": {
        "pycharm": {}
      },
      "outputs": [],
      "source": [
        "class VectorAttention(torch.nn.Module):\n",
        "    def __init__(self, dim):\n",
        "        super(VectorAttention, self).__init__()\n",
        "        self.dim \u003d dim\n",
        "        self.param \u003d torch.nn.Parameter(data\u003d(torch.ones(self.dim, 1) / self.dim))\n",
        "        \n",
        "    def forward_one(self, batch_vectors, batch_masks):\n",
        "        #batch_masks: batch_size x seq_len x 1\n",
        "        coef \u003d masked_softmax((batch_vectors @ self.param), batch_masks.unsqueeze(2), dim\u003d1)\n",
        "        return (batch_vectors * coef).sum(dim\u003d1)\n",
        "\n",
        "    def forward(self, batch_1, mask_1, batch_2, mask_2):\n",
        "        return self.forward_one(batch_1, mask_1), self.forward_one(batch_2, mask_2)"
      ]
    },
    {
      "cell_type": "code",
      "execution_count": 69,
      "metadata": {
        "pycharm": {}
      },
      "outputs": [],
      "source": [
        "class NNAttention(torch.nn.Module):\n",
        "    def __init__(self, dim):\n",
        "        super(NNAttention, self).__init__()\n",
        "        self.dim \u003d dim\n",
        "        self.nn \u003d torch.nn.Sequential(torch.nn.Linear(dim, 1), torch.nn.Tanh())\n",
        "    \n",
        "    def forward_one(self, batch_vectors, batch_masks):\n",
        "        coef \u003d masked_softmax(self.nn(batch_vectors), batch_masks.unsqueeze(2), dim\u003d1)\n",
        "        return (batch_vectors * coef).sum(dim\u003d1)\n",
        "    \n",
        "    def forward(self, batch_1, mask_1, batch_2, mask_2):\n",
        "        return self.forward_one(batch_1, mask_1), self.forward_one(batch_2, mask_2)"
      ]
    },
    {
      "cell_type": "code",
      "execution_count": 70,
      "metadata": {
        "pycharm": {}
      },
      "outputs": [],
      "source": [
        "class Seq2SeqAttention(torch.nn.Module):\n",
        "    def __init__(self, dim, hidden_dim\u003d50):\n",
        "        super(Seq2SeqAttention, self).__init__()\n",
        "        self.dim \u003d dim #embedding dim\n",
        "        self.hidden_dim \u003d hidden_dim #attention dim\n",
        "        self.mapping \u003d torch.nn.Linear(dim, hidden_dim, bias\u003dFalse)\n",
        "        \n",
        "    def forward(self, batch_1, mask_1, batch_2, mask_2):\n",
        "        mapped_1 \u003d self.mapping(batch_1)\n",
        "        mapped_2 \u003d self.mapping(batch_2)\n",
        "        \n",
        "        coef_matrix \u003d torch.bmm(mapped_1, mapped_2.permute(0, 2, 1))\n",
        "        coef_matrix \u003d coef_matrix * mask_1.unsqueeze(2) * mask_2.unsqueeze(1)\n",
        "        \n",
        "        coef_1 \u003d coef_matrix.sum(dim\u003d2)\n",
        "        coef_2 \u003d coef_matrix.sum(dim\u003d1)\n",
        "        \n",
        "        print(mask_1.shape)\n",
        "        print(coef_1.shape)\n",
        "        coef_1 \u003d masked_softmax(coef_1, mask_1, dim\u003d1).unsqueeze(2)\n",
        "        coef_2 \u003d masked_softmax(coef_2, mask_2, dim\u003d1).unsqueeze(2)\n",
        "        \n",
        "        res_1 \u003d (batch_1 * coef_1).sum(dim \u003d 1)\n",
        "        res_2 \u003d (batch_2 * coef_2).sum(dim \u003d 1)\n",
        "        \n",
        "        return res_1, res_2"
      ]
    },
    {
      "cell_type": "code",
      "execution_count": 71,
      "metadata": {
        "pycharm": {}
      },
      "outputs": [],
      "source": [
        "test_batch_1 \u003d torch.ones(5, 30, 784)\n",
        "test_mask_1 \u003d torch.ones(5, 30)\n",
        "test_mask_1[:, 10:] \u003d 0\n",
        "\n",
        "test_batch_2 \u003d torch.ones(5, 20, 784)\n",
        "test_mask_2 \u003d torch.ones(5, 20)\n",
        "test_mask_2[:, 4:] \u003d 0"
      ]
    },
    {
      "cell_type": "code",
      "execution_count": 72,
      "metadata": {
        "pycharm": {}
      },
      "outputs": [],
      "source": [
        "va \u003d VectorAttention(784)\n",
        "\n",
        "na \u003d NNAttention(784)\n",
        "\n",
        "ssa \u003d Seq2SeqAttention(784, 50)"
      ]
    },
    {
      "cell_type": "code",
      "execution_count": 73,
      "metadata": {
        "pycharm": {}
      },
      "outputs": [
        {
          "data": {
            "text/plain": [
              "(tensor([[1.0000, 1.0000, 1.0000,  ..., 1.0000, 1.0000, 1.0000],\n",
              "         [1.0000, 1.0000, 1.0000,  ..., 1.0000, 1.0000, 1.0000],\n",
              "         [1.0000, 1.0000, 1.0000,  ..., 1.0000, 1.0000, 1.0000],\n",
              "         [1.0000, 1.0000, 1.0000,  ..., 1.0000, 1.0000, 1.0000],\n",
              "         [1.0000, 1.0000, 1.0000,  ..., 1.0000, 1.0000, 1.0000]],\n",
              "        grad_fn\u003d\u003cSumBackward2\u003e), tensor([[1., 1., 1.,  ..., 1., 1., 1.],\n",
              "         [1., 1., 1.,  ..., 1., 1., 1.],\n",
              "         [1., 1., 1.,  ..., 1., 1., 1.],\n",
              "         [1., 1., 1.,  ..., 1., 1., 1.],\n",
              "         [1., 1., 1.,  ..., 1., 1., 1.]], grad_fn\u003d\u003cSumBackward2\u003e))"
            ]
          },
          "execution_count": 73,
          "metadata": {},
          "output_type": "execute_result"
        }
      ],
      "source": [
        "va(test_batch_1, test_mask_1, test_batch_2, test_mask_2)"
      ]
    },
    {
      "cell_type": "code",
      "execution_count": 74,
      "metadata": {
        "pycharm": {}
      },
      "outputs": [
        {
          "data": {
            "text/plain": [
              "(tensor([[1., 1., 1.,  ..., 1., 1., 1.],\n",
              "         [1., 1., 1.,  ..., 1., 1., 1.],\n",
              "         [1., 1., 1.,  ..., 1., 1., 1.],\n",
              "         [1., 1., 1.,  ..., 1., 1., 1.],\n",
              "         [1., 1., 1.,  ..., 1., 1., 1.]], grad_fn\u003d\u003cSumBackward2\u003e),\n",
              " tensor([[1., 1., 1.,  ..., 1., 1., 1.],\n",
              "         [1., 1., 1.,  ..., 1., 1., 1.],\n",
              "         [1., 1., 1.,  ..., 1., 1., 1.],\n",
              "         [1., 1., 1.,  ..., 1., 1., 1.],\n",
              "         [1., 1., 1.,  ..., 1., 1., 1.]], grad_fn\u003d\u003cSumBackward2\u003e))"
            ]
          },
          "execution_count": 74,
          "metadata": {},
          "output_type": "execute_result"
        }
      ],
      "source": [
        "na(test_batch_1, test_mask_1, test_batch_2, test_mask_2)"
      ]
    },
    {
      "cell_type": "code",
      "execution_count": 75,
      "metadata": {
        "pycharm": {}
      },
      "outputs": [
        {
          "name": "stdout",
          "output_type": "stream",
          "text": [
            "torch.Size([5, 30])\n",
            "torch.Size([5, 30])\n"
          ]
        },
        {
          "data": {
            "text/plain": [
              "(tensor([[1.0000, 1.0000, 1.0000,  ..., 1.0000, 1.0000, 1.0000],\n",
              "         [1.0000, 1.0000, 1.0000,  ..., 1.0000, 1.0000, 1.0000],\n",
              "         [1.0000, 1.0000, 1.0000,  ..., 1.0000, 1.0000, 1.0000],\n",
              "         [1.0000, 1.0000, 1.0000,  ..., 1.0000, 1.0000, 1.0000],\n",
              "         [1.0000, 1.0000, 1.0000,  ..., 1.0000, 1.0000, 1.0000]],\n",
              "        grad_fn\u003d\u003cSumBackward2\u003e), tensor([[1., 1., 1.,  ..., 1., 1., 1.],\n",
              "         [1., 1., 1.,  ..., 1., 1., 1.],\n",
              "         [1., 1., 1.,  ..., 1., 1., 1.],\n",
              "         [1., 1., 1.,  ..., 1., 1., 1.],\n",
              "         [1., 1., 1.,  ..., 1., 1., 1.]], grad_fn\u003d\u003cSumBackward2\u003e))"
            ]
          },
          "execution_count": 75,
          "metadata": {},
          "output_type": "execute_result"
        }
      ],
      "source": [
        "ssa(test_batch_1, test_mask_1, test_batch_2, test_mask_2)"
      ]
    },
    {
      "cell_type": "code",
      "execution_count": 6,
      "metadata": {
        "pycharm": {}
      },
      "outputs": [
        {
          "data": {
            "text/html": [
              "\u003cdiv\u003e\n",
              "\u003cstyle scoped\u003e\n",
              "    .dataframe tbody tr th:only-of-type {\n",
              "        vertical-align: middle;\n",
              "    }\n",
              "\n",
              "    .dataframe tbody tr th {\n",
              "        vertical-align: top;\n",
              "    }\n",
              "\n",
              "    .dataframe thead th {\n",
              "        text-align: right;\n",
              "    }\n",
              "\u003c/style\u003e\n",
              "\u003ctable border\u003d\"1\" class\u003d\"dataframe\"\u003e\n",
              "  \u003cthead\u003e\n",
              "    \u003ctr style\u003d\"text-align: right;\"\u003e\n",
              "      \u003cth\u003e\u003c/th\u003e\n",
              "      \u003cth\u003eid\u003c/th\u003e\n",
              "      \u003cth\u003eqid1\u003c/th\u003e\n",
              "      \u003cth\u003eqid2\u003c/th\u003e\n",
              "      \u003cth\u003equestion1\u003c/th\u003e\n",
              "      \u003cth\u003equestion2\u003c/th\u003e\n",
              "      \u003cth\u003eis_duplicate\u003c/th\u003e\n",
              "    \u003c/tr\u003e\n",
              "  \u003c/thead\u003e\n",
              "  \u003ctbody\u003e\n",
              "    \u003ctr\u003e\n",
              "      \u003cth\u003e0\u003c/th\u003e\n",
              "      \u003ctd\u003e0\u003c/td\u003e\n",
              "      \u003ctd\u003e1\u003c/td\u003e\n",
              "      \u003ctd\u003e2\u003c/td\u003e\n",
              "      \u003ctd\u003eWhat is the step by step guide to invest in sh...\u003c/td\u003e\n",
              "      \u003ctd\u003eWhat is the step by step guide to invest in sh...\u003c/td\u003e\n",
              "      \u003ctd\u003e0\u003c/td\u003e\n",
              "    \u003c/tr\u003e\n",
              "    \u003ctr\u003e\n",
              "      \u003cth\u003e1\u003c/th\u003e\n",
              "      \u003ctd\u003e1\u003c/td\u003e\n",
              "      \u003ctd\u003e3\u003c/td\u003e\n",
              "      \u003ctd\u003e4\u003c/td\u003e\n",
              "      \u003ctd\u003eWhat is the story of Kohinoor (Koh-i-Noor) Dia...\u003c/td\u003e\n",
              "      \u003ctd\u003eWhat would happen if the Indian government sto...\u003c/td\u003e\n",
              "      \u003ctd\u003e0\u003c/td\u003e\n",
              "    \u003c/tr\u003e\n",
              "    \u003ctr\u003e\n",
              "      \u003cth\u003e2\u003c/th\u003e\n",
              "      \u003ctd\u003e2\u003c/td\u003e\n",
              "      \u003ctd\u003e5\u003c/td\u003e\n",
              "      \u003ctd\u003e6\u003c/td\u003e\n",
              "      \u003ctd\u003eHow can I increase the speed of my internet co...\u003c/td\u003e\n",
              "      \u003ctd\u003eHow can Internet speed be increased by hacking...\u003c/td\u003e\n",
              "      \u003ctd\u003e0\u003c/td\u003e\n",
              "    \u003c/tr\u003e\n",
              "    \u003ctr\u003e\n",
              "      \u003cth\u003e3\u003c/th\u003e\n",
              "      \u003ctd\u003e3\u003c/td\u003e\n",
              "      \u003ctd\u003e7\u003c/td\u003e\n",
              "      \u003ctd\u003e8\u003c/td\u003e\n",
              "      \u003ctd\u003eWhy am I mentally very lonely? How can I solve...\u003c/td\u003e\n",
              "      \u003ctd\u003eFind the remainder when [math]23^{24}[/math] i...\u003c/td\u003e\n",
              "      \u003ctd\u003e0\u003c/td\u003e\n",
              "    \u003c/tr\u003e\n",
              "    \u003ctr\u003e\n",
              "      \u003cth\u003e4\u003c/th\u003e\n",
              "      \u003ctd\u003e4\u003c/td\u003e\n",
              "      \u003ctd\u003e9\u003c/td\u003e\n",
              "      \u003ctd\u003e10\u003c/td\u003e\n",
              "      \u003ctd\u003eWhich one dissolve in water quikly sugar, salt...\u003c/td\u003e\n",
              "      \u003ctd\u003eWhich fish would survive in salt water?\u003c/td\u003e\n",
              "      \u003ctd\u003e0\u003c/td\u003e\n",
              "    \u003c/tr\u003e\n",
              "  \u003c/tbody\u003e\n",
              "\u003c/table\u003e\n",
              "\u003c/div\u003e"
            ],
            "text/plain": [
              "   id  qid1  qid2                                          question1  \\\n",
              "0   0     1     2  What is the step by step guide to invest in sh...   \n",
              "1   1     3     4  What is the story of Kohinoor (Koh-i-Noor) Dia...   \n",
              "2   2     5     6  How can I increase the speed of my internet co...   \n",
              "3   3     7     8  Why am I mentally very lonely? How can I solve...   \n",
              "4   4     9    10  Which one dissolve in water quikly sugar, salt...   \n",
              "\n",
              "                                           question2  is_duplicate  \n",
              "0  What is the step by step guide to invest in sh...             0  \n",
              "1  What would happen if the Indian government sto...             0  \n",
              "2  How can Internet speed be increased by hacking...             0  \n",
              "3  Find the remainder when [math]23^{24}[/math] i...             0  \n",
              "4            Which fish would survive in salt water?             0  "
            ]
          },
          "execution_count": 6,
          "metadata": {},
          "output_type": "execute_result"
        }
      ],
      "source": [
        "data.head()"
      ]
    },
    {
      "cell_type": "code",
      "execution_count": 13,
      "metadata": {
        "pycharm": {}
      },
      "outputs": [
        {
          "data": {
            "text/plain": [
              "290654"
            ]
          },
          "execution_count": 13,
          "metadata": {},
          "output_type": "execute_result"
        }
      ],
      "source": [
        "data[\u0027qid1\u0027].nunique()"
      ]
    },
    {
      "cell_type": "code",
      "execution_count": 18,
      "metadata": {
        "pycharm": {}
      },
      "outputs": [
        {
          "data": {
            "text/plain": [
              "8461      50\n",
              "14110     48\n",
              "25984     47\n",
              "20628     47\n",
              "1749      47\n",
              "          ..\n",
              "415339     1\n",
              "411241     1\n",
              "413288     1\n",
              "409190     1\n",
              "524288     1\n",
              "Name: qid1, Length: 290654, dtype: int64"
            ]
          },
          "execution_count": 18,
          "metadata": {},
          "output_type": "execute_result"
        }
      ],
      "source": [
        "data[\u0027qid1\u0027].value_counts()"
      ]
    },
    {
      "cell_type": "code",
      "execution_count": null,
      "metadata": {
        "pycharm": {}
      },
      "outputs": [],
      "source": []
    },
    {
      "cell_type": "code",
      "execution_count": 16,
      "metadata": {
        "pycharm": {}
      },
      "outputs": [
        {
          "data": {
            "text/plain": [
              "299364"
            ]
          },
          "execution_count": 16,
          "metadata": {},
          "output_type": "execute_result"
        }
      ],
      "source": [
        "data[\u0027qid2\u0027].nunique()"
      ]
    },
    {
      "cell_type": "code",
      "execution_count": 14,
      "metadata": {
        "pycharm": {}
      },
      "outputs": [
        {
          "data": {
            "text/plain": [
              "404290"
            ]
          },
          "execution_count": 14,
          "metadata": {},
          "output_type": "execute_result"
        }
      ],
      "source": [
        "len(data[\u0027qid1\u0027])"
      ]
    },
    {
      "cell_type": "code",
      "execution_count": 15,
      "metadata": {
        "pycharm": {}
      },
      "outputs": [
        {
          "data": {
            "text/plain": [
              "404290"
            ]
          },
          "execution_count": 15,
          "metadata": {},
          "output_type": "execute_result"
        }
      ],
      "source": [
        "len(data[\u0027qid2\u0027])"
      ]
    }
  ],
  "metadata": {
    "kernelspec": {
      "display_name": "Python 3",
      "language": "python",
      "name": "python3"
    },
    "language_info": {
      "codemirror_mode": {
        "name": "ipython",
        "version": 3
      },
      "file_extension": ".py",
      "mimetype": "text/x-python",
      "name": "python",
      "nbconvert_exporter": "python",
      "pygments_lexer": "ipython3",
      "version": "3.6.6"
    }
  },
  "nbformat": 4,
  "nbformat_minor": 4
}
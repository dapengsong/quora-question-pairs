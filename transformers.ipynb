{
 "cells": [
  {
   "cell_type": "code",
   "execution_count": 1,
   "metadata": {},
   "outputs": [],
   "source": [
    "import torch\n",
    "import os\n",
    "import sys\n",
    "import pandas as pd\n",
    "from tqdm import tqdm"
   ]
  },
  {
   "cell_type": "code",
   "execution_count": 2,
   "metadata": {},
   "outputs": [],
   "source": [
    "from transformers import transformers\n",
    "from transformers.transformers import RobertaTokenizer, RobertaModel, RobertaConfig\n",
    "import seaborn as sns\n",
    "import matplotlib.pyplot as plt\n",
    "from torch.utils.data import DataLoader"
   ]
  },
  {
   "cell_type": "code",
   "execution_count": 3,
   "metadata": {},
   "outputs": [],
   "source": [
    "from torch.utils.data import Dataset"
   ]
  },
  {
   "cell_type": "code",
   "execution_count": 4,
   "metadata": {},
   "outputs": [],
   "source": [
    "model_weights = 'roberta-base'"
   ]
  },
  {
   "cell_type": "code",
   "execution_count": 5,
   "metadata": {},
   "outputs": [],
   "source": [
    "tokenizer = RobertaTokenizer.from_pretrained(model_weights)"
   ]
  },
  {
   "cell_type": "code",
   "execution_count": 6,
   "metadata": {},
   "outputs": [],
   "source": [
    "model = RobertaModel.from_pretrained(model_weights, output_hidden_states=True).cuda()"
   ]
  },
  {
   "cell_type": "code",
   "execution_count": 7,
   "metadata": {},
   "outputs": [],
   "source": [
    "train = pd.read_csv('./data/train.csv')\n",
    "train.dropna(axis=0, inplace=True)\n",
    "test = pd.read_csv('data/test.csv')"
   ]
  },
  {
   "cell_type": "code",
   "execution_count": 8,
   "metadata": {},
   "outputs": [],
   "source": [
    "def encode_str(string, *args, **kwargs):\n",
    "    return tokenizer.encode(string, *args, **kwargs)\n",
    "\n",
    "class QuoraSentences(torch.utils.data.Dataset):\n",
    "    def __init__(self, df, tk, train=True):\n",
    "        self.train = train\n",
    "        self.df = df\n",
    "        if self.train:\n",
    "            self.df.dropna(inplace=True, axis=0)\n",
    "        self.enc = tk.encode\n",
    "    \n",
    "    def __getitem__(self, idx):\n",
    "        q_1, q_2 = self.df.iloc[idx][['question1', 'question2']]\n",
    "        enc_1 = self.enc(q_1, add_special_tokens=True, return_tensors='pt').squeeze()        \n",
    "        enc_2 = self.enc(q_2, add_special_tokens=True, return_tensors='pt').squeeze()\n",
    "        if self.train:\n",
    "            is_dup = self.df.iloc[idx]['is_duplicate']\n",
    "            return enc_1, enc_2, is_dup\n",
    "        return enc_1, enc_2\n",
    "        \n",
    "    def __len__(self):\n",
    "        return len(self.df)"
   ]
  },
  {
   "cell_type": "code",
   "execution_count": 9,
   "metadata": {},
   "outputs": [],
   "source": [
    "def collate_fn(batch):\n",
    "    #calculate max length\n",
    "    max1 = max([item[0].size() for item in batch])\n",
    "    max2 = max([item[1].size() for item in batch])\n",
    "    \n",
    "    q1_batch, q1_mask, q2_batch, q2_mask = [], [], [], []\n",
    "    y = []\n",
    "    \n",
    "    for enc_1, enc_2, is_dup in batch:\n",
    "        padded_1 = enc_1.new_zeros(max1)\n",
    "        padded_1[:len(enc_1)] = enc_1\n",
    "        att_mask_1 = enc_1.new_zeros(max1, dtype=torch.float)\n",
    "        att_mask_1[:len(enc_1)] = 1\n",
    "        q1_batch.append(padded_1)\n",
    "        q1_mask.append(att_mask_1)\n",
    "        \n",
    "        padded_2 = enc_2.new_zeros(max2)\n",
    "        padded_2[:len(enc_2)] = enc_2\n",
    "        att_mask_2 = enc_2.new_zeros(max2, dtype=torch.float)\n",
    "        att_mask_2[:len(enc_2)] = 1\n",
    "        q2_batch.append(padded_2)\n",
    "        q2_mask.append(att_mask_2)\n",
    "        \n",
    "        y.append(is_dup)\n",
    "        \n",
    "    \n",
    "    return torch.stack(q1_batch), torch.stack(q1_mask), torch.stack(q2_batch), torch.stack(q2_mask), torch.tensor(y)"
   ]
  },
  {
   "cell_type": "code",
   "execution_count": 10,
   "metadata": {},
   "outputs": [],
   "source": [
    "class SentenceClf(torch.nn.Module):\n",
    "    def __init__(self, emb_model):\n",
    "        super(SentenceClf, self).__init__()\n",
    "        self.emb_model = emb_model\n",
    "        self.emb_size = 768\n",
    "        self.clf = torch.nn.Sequential(\n",
    "            torch.nn.Linear(self.emb_size * 2, 512),\n",
    "            torch.nn.Dropout(),\n",
    "            torch.nn.LeakyReLU(),\n",
    "            torch.nn.Dropout(),\n",
    "            torch.nn.Linear(512, 512),\n",
    "            torch.nn.LeakyReLU(),\n",
    "            torch.nn.Dropout(),\n",
    "            torch.nn.Linear(512, 256),\n",
    "            torch.nn.LeakyReLU(),\n",
    "            torch.nn.Dropout(),\n",
    "            torch.nn.Linear(256, 2)\n",
    "        ).cuda()\n",
    "    \n",
    "    def forward(self, enc_1, mask_1, enc_2, mask_2):\n",
    "        #average, concatenate, process with mlp\n",
    "        \n",
    "        with torch.no_grad():\n",
    "            hidden_1 = self.emb_model(enc_1, attention_mask = mask_1)[0]\n",
    "            hidden_2 = self.emb_model(enc_2, attention_mask = mask_2)[0]\n",
    "\n",
    "            hidden_1_count = mask_1.sum(axis=1, keepdims=True)\n",
    "            hidden_2_count = mask_2.sum(axis=1, keepdims=True)\n",
    "        \n",
    "        #input: batch_size x word_size x embed_dim\n",
    "            mlp_input = torch.cat(\n",
    "                (hidden_1.sum(axis=1) / hidden_1_count, hidden_2.sum(axis=1) / hidden_2_count),\n",
    "                axis = 1\n",
    "            )\n",
    "        \n",
    "        return self.clf(mlp_input)"
   ]
  },
  {
   "cell_type": "code",
   "execution_count": 11,
   "metadata": {},
   "outputs": [],
   "source": [
    "sc = SentenceClf(model)"
   ]
  },
  {
   "cell_type": "code",
   "execution_count": 12,
   "metadata": {},
   "outputs": [
    {
     "name": "stderr",
     "output_type": "stream",
     "text": [
      "/home/grapefroot/ds3/lib/python3.7/site-packages/ipykernel_launcher.py:9: SettingWithCopyWarning: \n",
      "A value is trying to be set on a copy of a slice from a DataFrame\n",
      "\n",
      "See the caveats in the documentation: http://pandas.pydata.org/pandas-docs/stable/user_guide/indexing.html#returning-a-view-versus-a-copy\n",
      "  if __name__ == '__main__':\n"
     ]
    }
   ],
   "source": [
    "ds_train = QuoraSentences(train.iloc[:10000], tokenizer)\n",
    "ds_val = QuoraSentences(train.iloc[-5000:], tokenizer)\n",
    "\n",
    "train_loader = DataLoader(ds_train, batch_size=100, collate_fn=collate_fn)\n",
    "val_loader = DataLoader(ds_val, batch_size=100, collate_fn=collate_fn)"
   ]
  },
  {
   "cell_type": "code",
   "execution_count": 13,
   "metadata": {},
   "outputs": [],
   "source": [
    "N_EPOCHS = 100"
   ]
  },
  {
   "cell_type": "code",
   "execution_count": 14,
   "metadata": {},
   "outputs": [],
   "source": [
    "from torch.optim import Adam\n",
    "from torch.nn import CrossEntropyLoss"
   ]
  },
  {
   "cell_type": "code",
   "execution_count": 15,
   "metadata": {},
   "outputs": [],
   "source": [
    "optim = Adam(sc.clf.parameters())"
   ]
  },
  {
   "cell_type": "code",
   "execution_count": 16,
   "metadata": {},
   "outputs": [],
   "source": [
    "loss = CrossEntropyLoss()"
   ]
  },
  {
   "cell_type": "code",
   "execution_count": 17,
   "metadata": {},
   "outputs": [],
   "source": [
    "from tensorboardX import SummaryWriter"
   ]
  },
  {
   "cell_type": "code",
   "execution_count": 18,
   "metadata": {},
   "outputs": [],
   "source": [
    "writer = SummaryWriter()"
   ]
  },
  {
   "cell_type": "code",
   "execution_count": null,
   "metadata": {
    "scrolled": true
   },
   "outputs": [
    {
     "name": "stderr",
     "output_type": "stream",
     "text": [
      "  0%|          | 0/100 [00:00<?, ?it/s]"
     ]
    }
   ],
   "source": [
    "for iter_num in tqdm(range(N_EPOCHS), position=0):\n",
    "    \n",
    "    val_list = []\n",
    "    for q1, m1, q2, m2, target in val_loader:\n",
    "        with torch.no_grad():\n",
    "            outs = sc(q1.cuda(), m1.cuda(), q2.cuda(), m2.cuda())\n",
    "            val_loss = loss(outs, target.cuda()).mean().item()\n",
    "            val_list.append(val_loss)\n",
    "    writer.add_scalar('data/val_logloss', sum(val_list) / len(val_list), iter_num)\n",
    "    \n",
    "    acc_loss = 0\n",
    "    n_batches = 0\n",
    "    for q1, m1, q2, m2, target in train_loader:\n",
    "        optim.zero_grad()\n",
    "        outs = sc(q1.cuda(), m1.cuda(), q2.cuda(), m2.cuda())\n",
    "        lv = loss(outs, target.cuda()).mean()\n",
    "        #writer.add_scalar('data/train_logloss', lv.item(), iter_num)\n",
    "        acc_loss+=lv.item()\n",
    "        n_batches+=1\n",
    "        lv.backward()\n",
    "        optim.step()\n",
    "    writer.add_scalar('data/train_logloss', acc_loss / n_batches, iter_num)\n",
    "            \n",
    "writer.export_scalart_to_json('./scalars.json')\n",
    "writer.close()"
   ]
  },
  {
   "cell_type": "code",
   "execution_count": null,
   "metadata": {},
   "outputs": [],
   "source": [
    "fig, (ax1, ax2) = plt.subplots(ncols=2, figsize=(10, 5))\n",
    "\n",
    "sns.distplot(lens, ax=ax1)\n",
    "sns.distplot(lens2, ax=ax2)"
   ]
  },
  {
   "cell_type": "code",
   "execution_count": 53,
   "metadata": {},
   "outputs": [],
   "source": [
    "mi1 = encode_str('He\\'s good', add_special_tokens=True, return_tensors='pt')\n",
    "\n",
    "mi2 = encode_str('That\\'s pretty true', add_special_tokens=True, return_tensors='pt')"
   ]
  },
  {
   "cell_type": "code",
   "execution_count": 36,
   "metadata": {},
   "outputs": [],
   "source": [
    "with torch.no_grad():\n",
    "    output = model(mi2.cuda())"
   ]
  },
  {
   "cell_type": "code",
   "execution_count": 12,
   "metadata": {},
   "outputs": [],
   "source": [
    "train = pd.read_csv('./data/train.csv')\n",
    "train.dropna(axis=0, inplace=True)\n",
    "test = pd.read_csv('data/test.csv')"
   ]
  },
  {
   "cell_type": "code",
   "execution_count": 185,
   "metadata": {},
   "outputs": [
    {
     "ename": "NameError",
     "evalue": "name 'test' is not defined",
     "output_type": "error",
     "traceback": [
      "\u001b[0;31m---------------------------------------------------------------------------\u001b[0m",
      "\u001b[0;31mNameError\u001b[0m                                 Traceback (most recent call last)",
      "\u001b[0;32m<ipython-input-185-4e1243bd22c6>\u001b[0m in \u001b[0;36m<module>\u001b[0;34m\u001b[0m\n\u001b[0;32m----> 1\u001b[0;31m \u001b[0mtest\u001b[0m\u001b[0;34m\u001b[0m\u001b[0;34m\u001b[0m\u001b[0m\n\u001b[0m",
      "\u001b[0;31mNameError\u001b[0m: name 'test' is not defined"
     ]
    }
   ],
   "source": [
    "tes"
   ]
  },
  {
   "cell_type": "code",
   "execution_count": 12,
   "metadata": {},
   "outputs": [],
   "source": [
    "train.dropna(inplace=True, axis=0)"
   ]
  },
  {
   "cell_type": "code",
   "execution_count": 13,
   "metadata": {},
   "outputs": [
    {
     "data": {
      "text/plain": [
       "question1    2\n",
       "question2    4\n",
       "dtype: int64"
      ]
     },
     "execution_count": 13,
     "metadata": {},
     "output_type": "execute_result"
    }
   ],
   "source": [
    "test[['question1', 'question2']].isna().sum()"
   ]
  }
 ],
 "metadata": {
  "kernelspec": {
   "display_name": "Python 3",
   "language": "python",
   "name": "python3"
  },
  "language_info": {
   "codemirror_mode": {
    "name": "ipython",
    "version": 3
   },
   "file_extension": ".py",
   "mimetype": "text/x-python",
   "name": "python",
   "nbconvert_exporter": "python",
   "pygments_lexer": "ipython3",
   "version": "3.7.4"
  }
 },
 "nbformat": 4,
 "nbformat_minor": 4
}
